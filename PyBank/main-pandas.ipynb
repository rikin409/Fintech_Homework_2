{
 "cells": [
  {
   "cell_type": "code",
   "execution_count": 214,
   "metadata": {},
   "outputs": [],
   "source": [
    "# PyBank but using Pandas instead of CSV Reader"
   ]
  },
  {
   "cell_type": "code",
   "execution_count": 214,
   "metadata": {},
   "outputs": [],
   "source": [
    "#imports\n",
    "import pandas as pd\n",
    "from pathlib import Path"
   ]
  },
  {
   "cell_type": "code",
   "execution_count": 215,
   "metadata": {},
   "outputs": [],
   "source": [
    "df = pd.read_csv('budget_data.csv')"
   ]
  },
  {
   "cell_type": "code",
   "execution_count": 216,
   "metadata": {},
   "outputs": [],
   "source": [
    "df[\"Change\"] = df[\"Profit/Losses\"].diff(periods=1)"
   ]
  },
  {
   "cell_type": "code",
   "execution_count": 217,
   "metadata": {},
   "outputs": [],
   "source": [
    "month_counter = len(df)"
   ]
  },
  {
   "cell_type": "code",
   "execution_count": 218,
   "metadata": {},
   "outputs": [],
   "source": [
    "average_change = round(df['Change'].mean(skipna = True), 2)"
   ]
  },
  {
   "cell_type": "code",
   "execution_count": 219,
   "metadata": {},
   "outputs": [],
   "source": [
    "total_income = df['Profit/Losses'].sum()"
   ]
  },
  {
   "cell_type": "code",
   "execution_count": 220,
   "metadata": {},
   "outputs": [],
   "source": [
    "maximum_change = df['Change'].max()\n",
    "minimum_change = df['Change'].min()\n",
    "maximum_date = df.iloc[df['Change'].idxmax()][\"Date\"]\n",
    "minimum_date = df.iloc[df['Change'].idxmin()][\"Date\"]"
   ]
  },
  {
   "cell_type": "code",
   "execution_count": 225,
   "metadata": {},
   "outputs": [],
   "source": [
    "output_path = Path('output-pandas.txt')\n",
    "\n",
    "with open(output_path, \"w\") as txtfile:\n",
    "    txtfile.write(\"Financial Analysis \\n\")\n",
    "    txtfile.write(\"---------------------------\\n\")\n",
    "    txtfile.write(f\"Total Months: {month_counter}\\n\")\n",
    "    txtfile.write(f\"Total Income: ${total_income}\\n\")\n",
    "    txtfile.write(f\"Average Change: ${round(average_change,2)}\\n\")\n",
    "    txtfile.write(f\"Greatest Increase in Profits: {maximum_date} : ${maximum_change}\\n\")\n",
    "    txtfile.write(f\"Greatest Decrease in Profits: {minimum_date} : ${minimum_change}\\n\")"
   ]
  }
 ],
 "metadata": {
  "kernelspec": {
   "display_name": "Python 3",
   "language": "python",
   "name": "python3"
  },
  "language_info": {
   "codemirror_mode": {
    "name": "ipython",
    "version": 3
   },
   "file_extension": ".py",
   "mimetype": "text/x-python",
   "name": "python",
   "nbconvert_exporter": "python",
   "pygments_lexer": "ipython3",
   "version": "3.8.5"
  }
 },
 "nbformat": 4,
 "nbformat_minor": 4
}
