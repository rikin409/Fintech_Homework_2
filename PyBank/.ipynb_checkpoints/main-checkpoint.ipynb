{
 "cells": [
  {
   "cell_type": "code",
   "execution_count": 25,
   "metadata": {},
   "outputs": [],
   "source": [
    "#imports\n",
    "\n",
    "from pathlib import Path\n",
    "import csv"
   ]
  },
  {
   "cell_type": "code",
   "execution_count": 26,
   "metadata": {},
   "outputs": [],
   "source": [
    "#set initial variables\n",
    "csvpath = Path('budget_data.csv')\n",
    "total_income = 0\n",
    "data = []\n",
    "month_counter = 0\n",
    "max_change = 0\n",
    "min_change = 0\n",
    "max_change_month = \"\"\n",
    "min_change_month = \"\"\n",
    "greatest_increase = 0\n",
    "greatest_decrease = 0\n",
    "greatest_increase_month = \"\"\n",
    "greatest_decrease_month = \"\"\n",
    "total_change = 0\n",
    "average_change = 0"
   ]
  },
  {
   "cell_type": "code",
   "execution_count": 27,
   "metadata": {},
   "outputs": [],
   "source": [
    "#read through CSV and put data into a list (of lists)\n",
    "with open(csvpath, 'r') as csvfile:\n",
    "    \n",
    "    csvreader = csv.reader(csvfile, delimiter=',')\n",
    "    next(csvreader)\n",
    "    \n",
    "    for row in csvreader:\n",
    "        \n",
    "        #add the date and profit into my list (of lists)\n",
    "        data.append([row[0], int(row[1])])\n",
    "        \n",
    "        #tally up total income\n",
    "        total_income = total_income+int(row[1])\n",
    "        \n",
    "        #add an extra column on myt list for \"change\". In order to avoid index error, I have to deal with the edge case of month_count == 0\n",
    "        if(month_counter == 0):\n",
    "            data[month_counter].append(\"N/A\")\n",
    "        else: #Calculate and add in the change column to every row. Also update min and max change if needed.\n",
    "            change = data[month_counter][1] - data[month_counter-1][1]\n",
    "            data[month_counter].append(change)\n",
    "            total_change = total_change + change\n",
    "            \n",
    "            #on the first change (the second month, index 1) update both the min and max. Otherwise update only if meeded.\n",
    "            if(month_counter == 1):\n",
    "                min_change = change\n",
    "                max_change = change\n",
    "                max_change_month = month_counter\n",
    "                min_change_month = month_counter\n",
    "            if(change<min_change):\n",
    "                min_change = change\n",
    "                min_change_month = data[month_counter][0]\n",
    "            if(change>max_change):\n",
    "                max_change = change\n",
    "                max_change_month = data[month_counter][0]\n",
    "                \n",
    "        month_counter+=1\n",
    "    "
   ]
  },
  {
   "cell_type": "code",
   "execution_count": 28,
   "metadata": {},
   "outputs": [],
   "source": [
    "#calculate average change\n",
    "\n",
    "average_change = total_change/(month_counter-1)"
   ]
  },
  {
   "cell_type": "code",
   "execution_count": 29,
   "metadata": {},
   "outputs": [],
   "source": [
    "#Special Case handling. Since the max change may not alwyas be an increase, and the minumum chnage may not alwyas be a decrease, we have to handle for that. For example if my data set had ALL negatve chnages, there would not be a technical \"greatest increase\" but there will be a max change \n",
    "\n",
    "if(max_change>0):\n",
    "    greatest_increase = max_change\n",
    "    greatest_increase_month = max_change_month\n",
    "else:\n",
    "    greatest_increase = \"N/A\"\n",
    "    greatest_increase_month= \"N/A\"\n",
    "\n",
    "if(min_change<0):\n",
    "    greatest_decrease = min_change\n",
    "    greatest_decrease_month = min_change_month\n",
    "else:\n",
    "    greatest_decrease = \"N/A\"\n",
    "    greatest_decrease_month = \"N/A\""
   ]
  },
  {
   "cell_type": "code",
   "execution_count": 30,
   "metadata": {},
   "outputs": [
    {
     "name": "stdout",
     "output_type": "stream",
     "text": [
      "Financial Analysis\n",
      "---------------------------\n",
      "Total Months: 86\n",
      "Total Income: $38382578\n",
      "Average Change: $-2315.12\n",
      "Greatest Increase in Profits: Feb-2012 - $1926159\n",
      "Greatest Decrease in Profits: Sep-2013 - $-2196167\n"
     ]
    }
   ],
   "source": [
    "print(\"Financial Analysis\")\n",
    "print(\"---------------------------\")\n",
    "print(f\"Total Months: {month_counter}\")\n",
    "print(f\"Total Income: ${total_income}\")\n",
    "print(f\"Average Change: ${round(average_change,2)}\")\n",
    "print(f\"Greatest Increase in Profits: {greatest_increase_month} : ${greatest_increase}\")\n",
    "print(f\"Greatest Decrease in Profits: {greatest_decrease_month} : ${greatest_decrease}\")"
   ]
  },
  {
   "cell_type": "code",
   "execution_count": 31,
   "metadata": {},
   "outputs": [],
   "source": [
    "# write the text file output\n",
    "output_path= Path('output.txt')\n",
    "\n",
    "with open(output_path, \"w\") as txtfile:\n",
    "    txtfile.write(\"Financial Analysis \\n\")\n",
    "    txtfile.write(\"--------------------------- \\n\")\n",
    "    txtfile.write(f\"Total Months: {month_counter}\\n\")\n",
    "    txtfile.write(f\"Total Income: ${total_income}\\n\")\n",
    "    txtfile.write(f\"Average Change: ${round(average_change,2)}\\n\")\n",
    "    txtfile.write(f\"Greatest Increase in Profits: {greatest_increase_month} : ${greatest_increase}\\n\")\n",
    "    txtfile.write(f\"Greatest Decrease in Profits: {greatest_decrease_month} : ${greatest_decrease}\\n\")\n"
   ]
  },
  {
   "cell_type": "code",
   "execution_count": null,
   "metadata": {},
   "outputs": [],
   "source": []
  }
 ],
 "metadata": {
  "kernelspec": {
   "display_name": "Python 3",
   "language": "python",
   "name": "python3"
  },
  "language_info": {
   "codemirror_mode": {
    "name": "ipython",
    "version": 3
   },
   "file_extension": ".py",
   "mimetype": "text/x-python",
   "name": "python",
   "nbconvert_exporter": "python",
   "pygments_lexer": "ipython3",
   "version": "3.8.5"
  }
 },
 "nbformat": 4,
 "nbformat_minor": 4
}
